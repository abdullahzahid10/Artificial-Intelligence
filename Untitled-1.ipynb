{
 "cells": [
  {
   "cell_type": "code",
   "execution_count": null,
   "id": "d70157ff",
   "metadata": {},
   "outputs": [],
   "source": [
    "# Given values for Pakistan\n",
    "population_current = 250_000_000  # population in people\n",
    "density_current = 326  # current density in people/km^2\n",
    "\n",
    "# Calculate the area based on current density\n",
    "area_pakistan = population_current / density_current\n",
    "\n",
    "# Calculate population based on new density of 850 people/km^2\n",
    "density_new = 850  # new density in people/km^2\n",
    "population_new_850 = density_new * area_pakistan\n",
    "print(population_new_850)\n",
    "\n"
   ]
  },
  {
   "cell_type": "code",
   "execution_count": null,
   "id": "a1e3ffb2",
   "metadata": {},
   "outputs": [],
   "source": []
  }
 ],
 "metadata": {
  "language_info": {
   "name": "python"
  }
 },
 "nbformat": 4,
 "nbformat_minor": 5
}
